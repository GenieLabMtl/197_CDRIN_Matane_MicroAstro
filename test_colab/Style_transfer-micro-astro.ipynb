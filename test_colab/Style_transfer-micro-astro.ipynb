{
  "nbformat": 4,
  "nbformat_minor": 0,
  "metadata": {
    "colab": {
      "name": "Untitled",
      "provenance": [],
      "collapsed_sections": []
    },
    "kernelspec": {
      "name": "python3",
      "display_name": "Python 3"
    },
    "language_info": {
      "name": "python"
    }
  },
  "cells": [
    {
      "cell_type": "code",
      "execution_count": null,
      "metadata": {
        "id": "ZiWwxVXn9H1A"
      },
      "outputs": [],
      "source": [
        "!pip install -q git+https://github.com/moritztng/prism.git\n",
        "from IPython.display import Image"
      ]
    },
    {
      "cell_type": "code",
      "source": [
        "# changer \"content.jpg\" et \"style.jpg\" pour les noms des fichiers à utiliser (l'ordre est important)\n",
        "# le paramètre --preserve_color peut être soit none ou style\n",
        "!style-transfer \"content.jpg\" \"style.jpg\" --iter 500 --lr 0.25 --content_weight 1 --style_weight 1 --preserve_color none --avg_pool --use_amp --area 500\n",
        "Image('artwork.png')"
      ],
      "metadata": {
        "id": "yEMoMEad9OEY"
      },
      "execution_count": null,
      "outputs": []
    }
  ]
}